{
 "cells": [
  {
   "cell_type": "code",
   "execution_count": 1,
   "id": "946501b9",
   "metadata": {
    "executionInfo": {
     "elapsed": 712,
     "status": "ok",
     "timestamp": 1662097567671,
     "user": {
      "displayName": "Md. Fahim Rahman",
      "userId": "13974613033485581138"
     },
     "user_tz": -360
    },
    "id": "946501b9"
   },
   "outputs": [],
   "source": [
    "import pandas as pd\n",
    "import numpy as np"
   ]
  },
  {
   "cell_type": "code",
   "execution_count": 2,
   "id": "099b245e",
   "metadata": {
    "colab": {
     "base_uri": "https://localhost:8080/",
     "height": 206
    },
    "executionInfo": {
     "elapsed": 2415,
     "status": "ok",
     "timestamp": 1662097571913,
     "user": {
      "displayName": "Md. Fahim Rahman",
      "userId": "13974613033485581138"
     },
     "user_tz": -360
    },
    "id": "099b245e",
    "outputId": "4ae63997-f499-4b14-8775-1f2b7fb5ce96"
   },
   "outputs": [
    {
     "data": {
      "text/html": [
       "<div>\n",
       "<style scoped>\n",
       "    .dataframe tbody tr th:only-of-type {\n",
       "        vertical-align: middle;\n",
       "    }\n",
       "\n",
       "    .dataframe tbody tr th {\n",
       "        vertical-align: top;\n",
       "    }\n",
       "\n",
       "    .dataframe thead th {\n",
       "        text-align: right;\n",
       "    }\n",
       "</style>\n",
       "<table border=\"1\" class=\"dataframe\">\n",
       "  <thead>\n",
       "    <tr style=\"text-align: right;\">\n",
       "      <th></th>\n",
       "      <th>gender</th>\n",
       "      <th>age</th>\n",
       "      <th>hypertension</th>\n",
       "      <th>heart_disease</th>\n",
       "      <th>ever_married</th>\n",
       "      <th>work_type</th>\n",
       "      <th>Residence_type</th>\n",
       "      <th>avg_glucose_level</th>\n",
       "      <th>bmi</th>\n",
       "      <th>smoking_status</th>\n",
       "      <th>stroke</th>\n",
       "    </tr>\n",
       "  </thead>\n",
       "  <tbody>\n",
       "    <tr>\n",
       "      <th>0</th>\n",
       "      <td>Male</td>\n",
       "      <td>67.0</td>\n",
       "      <td>0</td>\n",
       "      <td>1</td>\n",
       "      <td>Yes</td>\n",
       "      <td>Private</td>\n",
       "      <td>Urban</td>\n",
       "      <td>228.69</td>\n",
       "      <td>36.6</td>\n",
       "      <td>formerly smoked</td>\n",
       "      <td>1</td>\n",
       "    </tr>\n",
       "    <tr>\n",
       "      <th>1</th>\n",
       "      <td>Male</td>\n",
       "      <td>80.0</td>\n",
       "      <td>0</td>\n",
       "      <td>1</td>\n",
       "      <td>Yes</td>\n",
       "      <td>Private</td>\n",
       "      <td>Rural</td>\n",
       "      <td>105.92</td>\n",
       "      <td>32.5</td>\n",
       "      <td>never smoked</td>\n",
       "      <td>1</td>\n",
       "    </tr>\n",
       "    <tr>\n",
       "      <th>2</th>\n",
       "      <td>Female</td>\n",
       "      <td>49.0</td>\n",
       "      <td>0</td>\n",
       "      <td>0</td>\n",
       "      <td>Yes</td>\n",
       "      <td>Private</td>\n",
       "      <td>Urban</td>\n",
       "      <td>171.23</td>\n",
       "      <td>34.4</td>\n",
       "      <td>smokes</td>\n",
       "      <td>1</td>\n",
       "    </tr>\n",
       "    <tr>\n",
       "      <th>3</th>\n",
       "      <td>Female</td>\n",
       "      <td>79.0</td>\n",
       "      <td>1</td>\n",
       "      <td>0</td>\n",
       "      <td>Yes</td>\n",
       "      <td>Self-employed</td>\n",
       "      <td>Rural</td>\n",
       "      <td>174.12</td>\n",
       "      <td>24.0</td>\n",
       "      <td>never smoked</td>\n",
       "      <td>1</td>\n",
       "    </tr>\n",
       "    <tr>\n",
       "      <th>4</th>\n",
       "      <td>Male</td>\n",
       "      <td>81.0</td>\n",
       "      <td>0</td>\n",
       "      <td>0</td>\n",
       "      <td>Yes</td>\n",
       "      <td>Private</td>\n",
       "      <td>Urban</td>\n",
       "      <td>186.21</td>\n",
       "      <td>29.0</td>\n",
       "      <td>formerly smoked</td>\n",
       "      <td>1</td>\n",
       "    </tr>\n",
       "  </tbody>\n",
       "</table>\n",
       "</div>"
      ],
      "text/plain": [
       "   gender   age  hypertension  heart_disease ever_married      work_type  \\\n",
       "0    Male  67.0             0              1          Yes        Private   \n",
       "1    Male  80.0             0              1          Yes        Private   \n",
       "2  Female  49.0             0              0          Yes        Private   \n",
       "3  Female  79.0             1              0          Yes  Self-employed   \n",
       "4    Male  81.0             0              0          Yes        Private   \n",
       "\n",
       "  Residence_type  avg_glucose_level   bmi   smoking_status  stroke  \n",
       "0          Urban             228.69  36.6  formerly smoked       1  \n",
       "1          Rural             105.92  32.5     never smoked       1  \n",
       "2          Urban             171.23  34.4           smokes       1  \n",
       "3          Rural             174.12  24.0     never smoked       1  \n",
       "4          Urban             186.21  29.0  formerly smoked       1  "
      ]
     },
     "execution_count": 2,
     "metadata": {},
     "output_type": "execute_result"
    }
   ],
   "source": [
    "df=pd.read_excel(\"Brain stroke prediction dataset.xlsx\")\n",
    "df.head()"
   ]
  },
  {
   "cell_type": "code",
   "execution_count": 3,
   "id": "6a12ce3a",
   "metadata": {
    "colab": {
     "base_uri": "https://localhost:8080/"
    },
    "executionInfo": {
     "elapsed": 389,
     "status": "ok",
     "timestamp": 1662043620104,
     "user": {
      "displayName": "Md. Fahim Rahman",
      "userId": "13974613033485581138"
     },
     "user_tz": -360
    },
    "id": "6a12ce3a",
    "outputId": "2d688e79-fb04-469f-aaa8-5f292ee2d3f0"
   },
   "outputs": [
    {
     "name": "stdout",
     "output_type": "stream",
     "text": [
      "Num of rows = 4981\n",
      "Num of cols = 11\n"
     ]
    },
    {
     "data": {
      "text/plain": [
       "gender                object\n",
       "age                  float64\n",
       "hypertension           int64\n",
       "heart_disease          int64\n",
       "ever_married          object\n",
       "work_type             object\n",
       "Residence_type        object\n",
       "avg_glucose_level    float64\n",
       "bmi                  float64\n",
       "smoking_status        object\n",
       "stroke                 int64\n",
       "dtype: object"
      ]
     },
     "execution_count": 3,
     "metadata": {},
     "output_type": "execute_result"
    }
   ],
   "source": [
    "print('Num of rows =',df.shape[0])\n",
    "print('Num of cols =',df.shape[1])\n",
    "df.dtypes"
   ]
  },
  {
   "cell_type": "markdown",
   "id": "036065d2",
   "metadata": {
    "id": "036065d2"
   },
   "source": [
    "*   **This dataset has 11 columns and 4981 rows**\n",
    "*   **Dependent feature - stroke**"
   ]
  },
  {
   "cell_type": "code",
   "execution_count": 4,
   "id": "a8d943a5",
   "metadata": {
    "colab": {
     "base_uri": "https://localhost:8080/"
    },
    "executionInfo": {
     "elapsed": 461,
     "status": "ok",
     "timestamp": 1662043558037,
     "user": {
      "displayName": "Md. Fahim Rahman",
      "userId": "13974613033485581138"
     },
     "user_tz": -360
    },
    "id": "a8d943a5",
    "outputId": "6ad06ea1-2070-4706-836d-c383b6021cc9"
   },
   "outputs": [
    {
     "data": {
      "text/plain": [
       "gender               0\n",
       "age                  0\n",
       "hypertension         0\n",
       "heart_disease        0\n",
       "ever_married         0\n",
       "work_type            0\n",
       "Residence_type       0\n",
       "avg_glucose_level    0\n",
       "bmi                  0\n",
       "smoking_status       0\n",
       "stroke               0\n",
       "dtype: int64"
      ]
     },
     "execution_count": 4,
     "metadata": {},
     "output_type": "execute_result"
    }
   ],
   "source": [
    "df.isnull().sum()"
   ]
  },
  {
   "cell_type": "markdown",
   "id": "904faf8f",
   "metadata": {
    "id": "904faf8f"
   },
   "source": [
    "**There is no null values**"
   ]
  },
  {
   "cell_type": "code",
   "execution_count": 5,
   "id": "0c5efbe5",
   "metadata": {
    "colab": {
     "base_uri": "https://localhost:8080/"
    },
    "executionInfo": {
     "elapsed": 415,
     "status": "ok",
     "timestamp": 1662043568256,
     "user": {
      "displayName": "Md. Fahim Rahman",
      "userId": "13974613033485581138"
     },
     "user_tz": -360
    },
    "id": "0c5efbe5",
    "outputId": "cb80a89b-a64a-46db-98a7-245386805cbb"
   },
   "outputs": [
    {
     "name": "stdout",
     "output_type": "stream",
     "text": [
      "['Male' 'Female']\n",
      "['Yes' 'No']\n",
      "['Private' 'Self-employed' 'Govt_job' 'children']\n",
      "['Urban' 'Rural']\n",
      "['formerly smoked' 'never smoked' 'smokes' 'Unknown']\n"
     ]
    }
   ],
   "source": [
    "print(df['gender'].unique())\n",
    "print(df['ever_married'].unique())\n",
    "print(df['work_type'].unique())\n",
    "print(df['Residence_type'].unique())\n",
    "print(df['smoking_status'].unique())"
   ]
  },
  {
   "cell_type": "markdown",
   "id": "661eb766",
   "metadata": {
    "id": "661eb766"
   },
   "source": [
    "* gender, work_type, Residence_type are Nominal categorical variable (One Hot Encodding/Label Encodding/Pandas's get_dummies needed)\n",
    "* ever_married, smoking_status are Ordinal categorical variable\n",
    "* work_type, smoking_status columns are with more than two distinct values (One Hot Encodding may be applied).\n",
    "Other columns have 3 unique values (Label Encodding may be applied)."
   ]
  },
  {
   "cell_type": "markdown",
   "id": "4bb6b8c8",
   "metadata": {
    "id": "4bb6b8c8"
   },
   "source": [
    "## **Handling ordinal categorical features**\n"
   ]
  },
  {
   "cell_type": "code",
   "execution_count": 6,
   "id": "b6065930",
   "metadata": {
    "colab": {
     "base_uri": "https://localhost:8080/",
     "height": 206
    },
    "executionInfo": {
     "elapsed": 740,
     "status": "ok",
     "timestamp": 1662097580673,
     "user": {
      "displayName": "Md. Fahim Rahman",
      "userId": "13974613033485581138"
     },
     "user_tz": -360
    },
    "id": "b6065930",
    "outputId": "656611a5-ca19-4b61-8b77-7f5597d5bba6"
   },
   "outputs": [
    {
     "data": {
      "text/html": [
       "<div>\n",
       "<style scoped>\n",
       "    .dataframe tbody tr th:only-of-type {\n",
       "        vertical-align: middle;\n",
       "    }\n",
       "\n",
       "    .dataframe tbody tr th {\n",
       "        vertical-align: top;\n",
       "    }\n",
       "\n",
       "    .dataframe thead th {\n",
       "        text-align: right;\n",
       "    }\n",
       "</style>\n",
       "<table border=\"1\" class=\"dataframe\">\n",
       "  <thead>\n",
       "    <tr style=\"text-align: right;\">\n",
       "      <th></th>\n",
       "      <th>gender</th>\n",
       "      <th>age</th>\n",
       "      <th>hypertension</th>\n",
       "      <th>heart_disease</th>\n",
       "      <th>work_type</th>\n",
       "      <th>Residence_type</th>\n",
       "      <th>avg_glucose_level</th>\n",
       "      <th>bmi</th>\n",
       "      <th>stroke</th>\n",
       "      <th>married</th>\n",
       "      <th>smoking_status_new</th>\n",
       "    </tr>\n",
       "  </thead>\n",
       "  <tbody>\n",
       "    <tr>\n",
       "      <th>0</th>\n",
       "      <td>Male</td>\n",
       "      <td>67.0</td>\n",
       "      <td>0</td>\n",
       "      <td>1</td>\n",
       "      <td>Private</td>\n",
       "      <td>Urban</td>\n",
       "      <td>228.69</td>\n",
       "      <td>36.6</td>\n",
       "      <td>1</td>\n",
       "      <td>1</td>\n",
       "      <td>1</td>\n",
       "    </tr>\n",
       "    <tr>\n",
       "      <th>1</th>\n",
       "      <td>Male</td>\n",
       "      <td>80.0</td>\n",
       "      <td>0</td>\n",
       "      <td>1</td>\n",
       "      <td>Private</td>\n",
       "      <td>Rural</td>\n",
       "      <td>105.92</td>\n",
       "      <td>32.5</td>\n",
       "      <td>1</td>\n",
       "      <td>1</td>\n",
       "      <td>0</td>\n",
       "    </tr>\n",
       "    <tr>\n",
       "      <th>2</th>\n",
       "      <td>Female</td>\n",
       "      <td>49.0</td>\n",
       "      <td>0</td>\n",
       "      <td>0</td>\n",
       "      <td>Private</td>\n",
       "      <td>Urban</td>\n",
       "      <td>171.23</td>\n",
       "      <td>34.4</td>\n",
       "      <td>1</td>\n",
       "      <td>1</td>\n",
       "      <td>2</td>\n",
       "    </tr>\n",
       "    <tr>\n",
       "      <th>3</th>\n",
       "      <td>Female</td>\n",
       "      <td>79.0</td>\n",
       "      <td>1</td>\n",
       "      <td>0</td>\n",
       "      <td>Self-employed</td>\n",
       "      <td>Rural</td>\n",
       "      <td>174.12</td>\n",
       "      <td>24.0</td>\n",
       "      <td>1</td>\n",
       "      <td>1</td>\n",
       "      <td>0</td>\n",
       "    </tr>\n",
       "    <tr>\n",
       "      <th>4</th>\n",
       "      <td>Male</td>\n",
       "      <td>81.0</td>\n",
       "      <td>0</td>\n",
       "      <td>0</td>\n",
       "      <td>Private</td>\n",
       "      <td>Urban</td>\n",
       "      <td>186.21</td>\n",
       "      <td>29.0</td>\n",
       "      <td>1</td>\n",
       "      <td>1</td>\n",
       "      <td>1</td>\n",
       "    </tr>\n",
       "  </tbody>\n",
       "</table>\n",
       "</div>"
      ],
      "text/plain": [
       "   gender   age  hypertension  heart_disease      work_type Residence_type  \\\n",
       "0    Male  67.0             0              1        Private          Urban   \n",
       "1    Male  80.0             0              1        Private          Rural   \n",
       "2  Female  49.0             0              0        Private          Urban   \n",
       "3  Female  79.0             1              0  Self-employed          Rural   \n",
       "4    Male  81.0             0              0        Private          Urban   \n",
       "\n",
       "   avg_glucose_level   bmi  stroke  married  smoking_status_new  \n",
       "0             228.69  36.6       1        1                   1  \n",
       "1             105.92  32.5       1        1                   0  \n",
       "2             171.23  34.4       1        1                   2  \n",
       "3             174.12  24.0       1        1                   0  \n",
       "4             186.21  29.0       1        1                   1  "
      ]
     },
     "execution_count": 6,
     "metadata": {},
     "output_type": "execute_result"
    }
   ],
   "source": [
    "ever_married_mapper={'Yes':1,'No':0}\n",
    "smoking_status_mapper={'never smoked':0,'formerly smoked':1,'smokes':2,'Unknown':3}\n",
    "df['married']=df['ever_married'].replace(ever_married_mapper)\n",
    "df['smoking_status_new']=df['smoking_status'].replace(smoking_status_mapper)\n",
    "df.drop(['smoking_status','ever_married'],axis=1,inplace=True)\n",
    "df.head()"
   ]
  },
  {
   "cell_type": "markdown",
   "id": "03f225e3",
   "metadata": {
    "id": "03f225e3"
   },
   "source": [
    "## **Handling nominal categorical features**"
   ]
  },
  {
   "cell_type": "code",
   "execution_count": 7,
   "id": "13d771e7",
   "metadata": {
    "colab": {
     "base_uri": "https://localhost:8080/",
     "height": 206
    },
    "executionInfo": {
     "elapsed": 737,
     "status": "ok",
     "timestamp": 1662097584025,
     "user": {
      "displayName": "Md. Fahim Rahman",
      "userId": "13974613033485581138"
     },
     "user_tz": -360
    },
    "id": "13d771e7",
    "outputId": "67c8980a-6f02-44aa-c56e-489cabe044a7"
   },
   "outputs": [
    {
     "data": {
      "text/html": [
       "<div>\n",
       "<style scoped>\n",
       "    .dataframe tbody tr th:only-of-type {\n",
       "        vertical-align: middle;\n",
       "    }\n",
       "\n",
       "    .dataframe tbody tr th {\n",
       "        vertical-align: top;\n",
       "    }\n",
       "\n",
       "    .dataframe thead th {\n",
       "        text-align: right;\n",
       "    }\n",
       "</style>\n",
       "<table border=\"1\" class=\"dataframe\">\n",
       "  <thead>\n",
       "    <tr style=\"text-align: right;\">\n",
       "      <th></th>\n",
       "      <th>age</th>\n",
       "      <th>hypertension</th>\n",
       "      <th>heart_disease</th>\n",
       "      <th>work_type</th>\n",
       "      <th>avg_glucose_level</th>\n",
       "      <th>bmi</th>\n",
       "      <th>stroke</th>\n",
       "      <th>married</th>\n",
       "      <th>smoking_status_new</th>\n",
       "      <th>residence_type_new</th>\n",
       "      <th>gender_new</th>\n",
       "    </tr>\n",
       "  </thead>\n",
       "  <tbody>\n",
       "    <tr>\n",
       "      <th>0</th>\n",
       "      <td>67.0</td>\n",
       "      <td>0</td>\n",
       "      <td>1</td>\n",
       "      <td>Private</td>\n",
       "      <td>228.69</td>\n",
       "      <td>36.6</td>\n",
       "      <td>1</td>\n",
       "      <td>1</td>\n",
       "      <td>1</td>\n",
       "      <td>1</td>\n",
       "      <td>1</td>\n",
       "    </tr>\n",
       "    <tr>\n",
       "      <th>1</th>\n",
       "      <td>80.0</td>\n",
       "      <td>0</td>\n",
       "      <td>1</td>\n",
       "      <td>Private</td>\n",
       "      <td>105.92</td>\n",
       "      <td>32.5</td>\n",
       "      <td>1</td>\n",
       "      <td>1</td>\n",
       "      <td>0</td>\n",
       "      <td>0</td>\n",
       "      <td>1</td>\n",
       "    </tr>\n",
       "    <tr>\n",
       "      <th>2</th>\n",
       "      <td>49.0</td>\n",
       "      <td>0</td>\n",
       "      <td>0</td>\n",
       "      <td>Private</td>\n",
       "      <td>171.23</td>\n",
       "      <td>34.4</td>\n",
       "      <td>1</td>\n",
       "      <td>1</td>\n",
       "      <td>2</td>\n",
       "      <td>1</td>\n",
       "      <td>0</td>\n",
       "    </tr>\n",
       "    <tr>\n",
       "      <th>3</th>\n",
       "      <td>79.0</td>\n",
       "      <td>1</td>\n",
       "      <td>0</td>\n",
       "      <td>Self-employed</td>\n",
       "      <td>174.12</td>\n",
       "      <td>24.0</td>\n",
       "      <td>1</td>\n",
       "      <td>1</td>\n",
       "      <td>0</td>\n",
       "      <td>0</td>\n",
       "      <td>0</td>\n",
       "    </tr>\n",
       "    <tr>\n",
       "      <th>4</th>\n",
       "      <td>81.0</td>\n",
       "      <td>0</td>\n",
       "      <td>0</td>\n",
       "      <td>Private</td>\n",
       "      <td>186.21</td>\n",
       "      <td>29.0</td>\n",
       "      <td>1</td>\n",
       "      <td>1</td>\n",
       "      <td>1</td>\n",
       "      <td>1</td>\n",
       "      <td>1</td>\n",
       "    </tr>\n",
       "  </tbody>\n",
       "</table>\n",
       "</div>"
      ],
      "text/plain": [
       "    age  hypertension  heart_disease      work_type  avg_glucose_level   bmi  \\\n",
       "0  67.0             0              1        Private             228.69  36.6   \n",
       "1  80.0             0              1        Private             105.92  32.5   \n",
       "2  49.0             0              0        Private             171.23  34.4   \n",
       "3  79.0             1              0  Self-employed             174.12  24.0   \n",
       "4  81.0             0              0        Private             186.21  29.0   \n",
       "\n",
       "   stroke  married  smoking_status_new  residence_type_new  gender_new  \n",
       "0       1        1                   1                   1           1  \n",
       "1       1        1                   0                   0           1  \n",
       "2       1        1                   2                   1           0  \n",
       "3       1        1                   0                   0           0  \n",
       "4       1        1                   1                   1           1  "
      ]
     },
     "execution_count": 7,
     "metadata": {},
     "output_type": "execute_result"
    }
   ],
   "source": [
    "# Using sklearn's LabelEncoder\n",
    "from sklearn.preprocessing import LabelEncoder\n",
    "le = LabelEncoder()\n",
    "\n",
    "le.fit(df['Residence_type'])\n",
    "df['residence_type_new'] = le.transform(df['Residence_type'])\n",
    "le.fit(df['gender'])\n",
    "df['gender_new'] = le.transform(df['gender'])\n",
    "df.drop(['Residence_type','gender'],axis=1,inplace=True)\n",
    "df.head()"
   ]
  },
  {
   "cell_type": "code",
   "execution_count": 8,
   "id": "5c016f4e",
   "metadata": {
    "colab": {
     "base_uri": "https://localhost:8080/",
     "height": 287
    },
    "executionInfo": {
     "elapsed": 467,
     "status": "ok",
     "timestamp": 1662097587452,
     "user": {
      "displayName": "Md. Fahim Rahman",
      "userId": "13974613033485581138"
     },
     "user_tz": -360
    },
    "id": "5c016f4e",
    "outputId": "99890913-66e5-4fc5-83fe-9166039e1fb7"
   },
   "outputs": [
    {
     "data": {
      "text/html": [
       "<div>\n",
       "<style scoped>\n",
       "    .dataframe tbody tr th:only-of-type {\n",
       "        vertical-align: middle;\n",
       "    }\n",
       "\n",
       "    .dataframe tbody tr th {\n",
       "        vertical-align: top;\n",
       "    }\n",
       "\n",
       "    .dataframe thead th {\n",
       "        text-align: right;\n",
       "    }\n",
       "</style>\n",
       "<table border=\"1\" class=\"dataframe\">\n",
       "  <thead>\n",
       "    <tr style=\"text-align: right;\">\n",
       "      <th></th>\n",
       "      <th>age</th>\n",
       "      <th>hypertension</th>\n",
       "      <th>heart_disease</th>\n",
       "      <th>avg_glucose_level</th>\n",
       "      <th>bmi</th>\n",
       "      <th>stroke</th>\n",
       "      <th>married</th>\n",
       "      <th>smoking_status_new</th>\n",
       "      <th>residence_type_new</th>\n",
       "      <th>gender_new</th>\n",
       "      <th>Private</th>\n",
       "      <th>Self-employed</th>\n",
       "      <th>children</th>\n",
       "    </tr>\n",
       "  </thead>\n",
       "  <tbody>\n",
       "    <tr>\n",
       "      <th>0</th>\n",
       "      <td>67.0</td>\n",
       "      <td>0</td>\n",
       "      <td>1</td>\n",
       "      <td>228.69</td>\n",
       "      <td>36.6</td>\n",
       "      <td>1</td>\n",
       "      <td>1</td>\n",
       "      <td>1</td>\n",
       "      <td>1</td>\n",
       "      <td>1</td>\n",
       "      <td>1</td>\n",
       "      <td>0</td>\n",
       "      <td>0</td>\n",
       "    </tr>\n",
       "    <tr>\n",
       "      <th>1</th>\n",
       "      <td>80.0</td>\n",
       "      <td>0</td>\n",
       "      <td>1</td>\n",
       "      <td>105.92</td>\n",
       "      <td>32.5</td>\n",
       "      <td>1</td>\n",
       "      <td>1</td>\n",
       "      <td>0</td>\n",
       "      <td>0</td>\n",
       "      <td>1</td>\n",
       "      <td>1</td>\n",
       "      <td>0</td>\n",
       "      <td>0</td>\n",
       "    </tr>\n",
       "    <tr>\n",
       "      <th>2</th>\n",
       "      <td>49.0</td>\n",
       "      <td>0</td>\n",
       "      <td>0</td>\n",
       "      <td>171.23</td>\n",
       "      <td>34.4</td>\n",
       "      <td>1</td>\n",
       "      <td>1</td>\n",
       "      <td>2</td>\n",
       "      <td>1</td>\n",
       "      <td>0</td>\n",
       "      <td>1</td>\n",
       "      <td>0</td>\n",
       "      <td>0</td>\n",
       "    </tr>\n",
       "    <tr>\n",
       "      <th>3</th>\n",
       "      <td>79.0</td>\n",
       "      <td>1</td>\n",
       "      <td>0</td>\n",
       "      <td>174.12</td>\n",
       "      <td>24.0</td>\n",
       "      <td>1</td>\n",
       "      <td>1</td>\n",
       "      <td>0</td>\n",
       "      <td>0</td>\n",
       "      <td>0</td>\n",
       "      <td>0</td>\n",
       "      <td>1</td>\n",
       "      <td>0</td>\n",
       "    </tr>\n",
       "    <tr>\n",
       "      <th>4</th>\n",
       "      <td>81.0</td>\n",
       "      <td>0</td>\n",
       "      <td>0</td>\n",
       "      <td>186.21</td>\n",
       "      <td>29.0</td>\n",
       "      <td>1</td>\n",
       "      <td>1</td>\n",
       "      <td>1</td>\n",
       "      <td>1</td>\n",
       "      <td>1</td>\n",
       "      <td>1</td>\n",
       "      <td>0</td>\n",
       "      <td>0</td>\n",
       "    </tr>\n",
       "  </tbody>\n",
       "</table>\n",
       "</div>"
      ],
      "text/plain": [
       "    age  hypertension  heart_disease  avg_glucose_level   bmi  stroke  \\\n",
       "0  67.0             0              1             228.69  36.6       1   \n",
       "1  80.0             0              1             105.92  32.5       1   \n",
       "2  49.0             0              0             171.23  34.4       1   \n",
       "3  79.0             1              0             174.12  24.0       1   \n",
       "4  81.0             0              0             186.21  29.0       1   \n",
       "\n",
       "   married  smoking_status_new  residence_type_new  gender_new  Private  \\\n",
       "0        1                   1                   1           1        1   \n",
       "1        1                   0                   0           1        1   \n",
       "2        1                   2                   1           0        1   \n",
       "3        1                   0                   0           0        0   \n",
       "4        1                   1                   1           1        1   \n",
       "\n",
       "   Self-employed  children  \n",
       "0              0         0  \n",
       "1              0         0  \n",
       "2              0         0  \n",
       "3              1         0  \n",
       "4              0         0  "
      ]
     },
     "execution_count": 8,
     "metadata": {},
     "output_type": "execute_result"
    }
   ],
   "source": [
    "# Using pandas's get_dummies\n",
    "work_types_dummies=pd.get_dummies(df['work_type'],drop_first=True)\n",
    "final_df=pd.concat([df.drop('work_type',axis=1),work_types_dummies],axis=1)\n",
    "final_df.head()"
   ]
  },
  {
   "cell_type": "markdown",
   "id": "7bdbf2cb",
   "metadata": {
    "id": "7bdbf2cb"
   },
   "source": [
    "**After LabelEncodding, get_dummies -**\n",
    "1. married column:\n",
    "    - Yes = 1\n",
    "    - No = 0\n",
    "2. gender_new column:\n",
    "    - Male = 1\n",
    "    - Female = 0\n",
    "3. residence_type_new column:\n",
    "    - Urban = 1\n",
    "    - Rural = 0\n",
    "4. smoking_status_new column:\n",
    "    - never smoked = 0\n",
    "    - formerly smoked = 1\n",
    "    - smokes = 2\n",
    "    - unknown = 3"
   ]
  },
  {
   "cell_type": "code",
   "execution_count": 9,
   "id": "OAhc4fT2IlTr",
   "metadata": {
    "executionInfo": {
     "elapsed": 667,
     "status": "ok",
     "timestamp": 1662097593307,
     "user": {
      "displayName": "Md. Fahim Rahman",
      "userId": "13974613033485581138"
     },
     "user_tz": -360
    },
    "id": "OAhc4fT2IlTr"
   },
   "outputs": [],
   "source": [
    "file_path=\"Brain stroke prediction dataset(Updated).csv\"\n",
    "final_df.to_csv(file_path, index=False)  "
   ]
  },
  {
   "cell_type": "markdown",
   "id": "GhehvGCWRACv",
   "metadata": {
    "id": "GhehvGCWRACv"
   },
   "source": [
    "### **Applying Train Test Split**"
   ]
  },
  {
   "cell_type": "code",
   "execution_count": 10,
   "id": "0d1101ca",
   "metadata": {
    "executionInfo": {
     "elapsed": 716,
     "status": "ok",
     "timestamp": 1662098249623,
     "user": {
      "displayName": "Md. Fahim Rahman",
      "userId": "13974613033485581138"
     },
     "user_tz": -360
    },
    "id": "0d1101ca"
   },
   "outputs": [],
   "source": [
    "from sklearn.model_selection import train_test_split\n",
    "\n",
    "final_df=pd.read_csv(\"Brain stroke prediction dataset(Updated).csv\")\n",
    "inputs = final_df.drop('stroke',axis=1)\n",
    "target = final_df['stroke']\n",
    "\n",
    "x_train,x_test,y_train,y_test=train_test_split(inputs,target,test_size=0.3)"
   ]
  },
  {
   "cell_type": "markdown",
   "id": "G_vsz0mRJgHb",
   "metadata": {
    "id": "G_vsz0mRJgHb"
   },
   "source": [
    "### **Applying Logistic Regression**"
   ]
  },
  {
   "cell_type": "code",
   "execution_count": 11,
   "id": "9463e48f",
   "metadata": {
    "colab": {
     "base_uri": "https://localhost:8080/"
    },
    "executionInfo": {
     "elapsed": 708,
     "status": "ok",
     "timestamp": 1662098291767,
     "user": {
      "displayName": "Md. Fahim Rahman",
      "userId": "13974613033485581138"
     },
     "user_tz": -360
    },
    "id": "9463e48f",
    "outputId": "b2ae55e0-4026-4e83-8f8c-931316876cfb"
   },
   "outputs": [
    {
     "data": {
      "text/plain": [
       "0.9451505016722408"
      ]
     },
     "execution_count": 11,
     "metadata": {},
     "output_type": "execute_result"
    }
   ],
   "source": [
    "from sklearn.linear_model import LogisticRegression\n",
    "LR_model=LogisticRegression(max_iter=10000)\n",
    "LR_model.fit(x_train,y_train)\n",
    "LR_model.score(x_test,y_test)"
   ]
  },
  {
   "cell_type": "markdown",
   "id": "eTPM5Ny2JNcH",
   "metadata": {
    "id": "eTPM5Ny2JNcH"
   },
   "source": [
    "### **Applying Decision Tree Classifier**"
   ]
  },
  {
   "cell_type": "code",
   "execution_count": 12,
   "id": "e26011e3",
   "metadata": {
    "colab": {
     "base_uri": "https://localhost:8080/"
    },
    "executionInfo": {
     "elapsed": 683,
     "status": "ok",
     "timestamp": 1662098302268,
     "user": {
      "displayName": "Md. Fahim Rahman",
      "userId": "13974613033485581138"
     },
     "user_tz": -360
    },
    "id": "e26011e3",
    "outputId": "26fb57e2-7e03-4a02-fe53-84fcec4dd717"
   },
   "outputs": [
    {
     "data": {
      "text/plain": [
       "0.9063545150501672"
      ]
     },
     "execution_count": 12,
     "metadata": {},
     "output_type": "execute_result"
    }
   ],
   "source": [
    "from sklearn.tree import DecisionTreeClassifier\n",
    "\n",
    "DTC_model=DecisionTreeClassifier()\n",
    "DTC_model.fit(x_train,y_train)\n",
    "DTC_model.score(x_test,y_test)"
   ]
  },
  {
   "cell_type": "markdown",
   "id": "B0t-CR4mLVEE",
   "metadata": {
    "id": "B0t-CR4mLVEE"
   },
   "source": [
    "### **Applying SVM**"
   ]
  },
  {
   "cell_type": "code",
   "execution_count": 13,
   "id": "ypcRTXDlLZtI",
   "metadata": {
    "colab": {
     "base_uri": "https://localhost:8080/"
    },
    "executionInfo": {
     "elapsed": 5,
     "status": "ok",
     "timestamp": 1662098304119,
     "user": {
      "displayName": "Md. Fahim Rahman",
      "userId": "13974613033485581138"
     },
     "user_tz": -360
    },
    "id": "ypcRTXDlLZtI",
    "outputId": "895fb844-75cf-423f-ce8f-e55281d4b977"
   },
   "outputs": [
    {
     "data": {
      "text/plain": [
       "0.9451505016722408"
      ]
     },
     "execution_count": 13,
     "metadata": {},
     "output_type": "execute_result"
    }
   ],
   "source": [
    "from sklearn.svm import SVC\n",
    "SVM_model=SVC()\n",
    "SVM_model.fit(x_train,y_train)\n",
    "SVM_model.score(x_test,y_test)"
   ]
  },
  {
   "cell_type": "markdown",
   "id": "aVd6gOiUo6ZH",
   "metadata": {
    "id": "aVd6gOiUo6ZH"
   },
   "source": [
    "### **Applying Random Forest Classifier**"
   ]
  },
  {
   "cell_type": "code",
   "execution_count": 14,
   "id": "iA89nmSQo6ZN",
   "metadata": {
    "colab": {
     "base_uri": "https://localhost:8080/"
    },
    "executionInfo": {
     "elapsed": 666,
     "status": "ok",
     "timestamp": 1662098306777,
     "user": {
      "displayName": "Md. Fahim Rahman",
      "userId": "13974613033485581138"
     },
     "user_tz": -360
    },
    "id": "iA89nmSQo6ZN",
    "outputId": "09436bdf-067a-4bc8-e68c-936e217ba3a6"
   },
   "outputs": [
    {
     "data": {
      "text/plain": [
       "0.9424749163879599"
      ]
     },
     "execution_count": 14,
     "metadata": {},
     "output_type": "execute_result"
    }
   ],
   "source": [
    "from sklearn.ensemble import RandomForestClassifier\n",
    "RFC_model=RandomForestClassifier()\n",
    "RFC_model.fit(x_train,y_train)\n",
    "RFC_model.score(x_test,y_test)"
   ]
  },
  {
   "cell_type": "markdown",
   "id": "XHaUcOh2L76c",
   "metadata": {
    "id": "XHaUcOh2L76c"
   },
   "source": [
    "### **Applying Gaussian Naive Bayes Classifier**"
   ]
  },
  {
   "cell_type": "code",
   "execution_count": 15,
   "id": "gBK6e16KL5AW",
   "metadata": {
    "colab": {
     "base_uri": "https://localhost:8080/"
    },
    "executionInfo": {
     "elapsed": 2,
     "status": "ok",
     "timestamp": 1662098308754,
     "user": {
      "displayName": "Md. Fahim Rahman",
      "userId": "13974613033485581138"
     },
     "user_tz": -360
    },
    "id": "gBK6e16KL5AW",
    "outputId": "43f23896-ecea-4d40-d10b-676e83275764"
   },
   "outputs": [
    {
     "data": {
      "text/plain": [
       "0.8093645484949833"
      ]
     },
     "execution_count": 15,
     "metadata": {},
     "output_type": "execute_result"
    }
   ],
   "source": [
    "from sklearn.naive_bayes import GaussianNB\n",
    "GNB_model=GaussianNB()\n",
    "GNB_model.fit(x_train,y_train)\n",
    "GNB_model.score(x_test,y_test)"
   ]
  },
  {
   "cell_type": "markdown",
   "id": "-_iQNC7Fp5em",
   "metadata": {
    "id": "-_iQNC7Fp5em"
   },
   "source": [
    "### **Applying K nearest neighbor Classifier**"
   ]
  },
  {
   "cell_type": "code",
   "execution_count": 16,
   "id": "FJpUbcD0p5en",
   "metadata": {
    "colab": {
     "base_uri": "https://localhost:8080/"
    },
    "executionInfo": {
     "elapsed": 6,
     "status": "ok",
     "timestamp": 1662098310404,
     "user": {
      "displayName": "Md. Fahim Rahman",
      "userId": "13974613033485581138"
     },
     "user_tz": -360
    },
    "id": "FJpUbcD0p5en",
    "outputId": "50b51769-4be8-44b1-f4dd-646c76723521"
   },
   "outputs": [
    {
     "data": {
      "text/plain": [
       "0.9317725752508361"
      ]
     },
     "execution_count": 16,
     "metadata": {},
     "output_type": "execute_result"
    }
   ],
   "source": [
    "from sklearn.neighbors import KNeighborsClassifier\n",
    "KNC_model= KNeighborsClassifier(n_neighbors=3)\n",
    "KNC_model.fit(x_train,y_train)\n",
    "KNC_model.score(x_test,y_test)"
   ]
  },
  {
   "cell_type": "markdown",
   "id": "IHPTX81FMNnq",
   "metadata": {
    "id": "IHPTX81FMNnq"
   },
   "source": [
    "## **Conducting Cross Validation**"
   ]
  },
  {
   "cell_type": "code",
   "execution_count": 17,
   "id": "i-XTujIVMJCf",
   "metadata": {
    "executionInfo": {
     "elapsed": 687,
     "status": "ok",
     "timestamp": 1662097640587,
     "user": {
      "displayName": "Md. Fahim Rahman",
      "userId": "13974613033485581138"
     },
     "user_tz": -360
    },
    "id": "i-XTujIVMJCf"
   },
   "outputs": [],
   "source": [
    "def get_score(model,x_train,x_test,y_tran,y_test):\n",
    "    model.fit(x_train,y_train)\n",
    "    return model.score(x_test,y_test)"
   ]
  },
  {
   "cell_type": "code",
   "execution_count": 18,
   "id": "HupRjTkCMdpo",
   "metadata": {
    "colab": {
     "base_uri": "https://localhost:8080/"
    },
    "executionInfo": {
     "elapsed": 3750,
     "status": "ok",
     "timestamp": 1662097647814,
     "user": {
      "displayName": "Md. Fahim Rahman",
      "userId": "13974613033485581138"
     },
     "user_tz": -360
    },
    "id": "HupRjTkCMdpo",
    "outputId": "962f2219-0b28-427b-ffb5-44e20d1c32f7"
   },
   "outputs": [
    {
     "name": "stdout",
     "output_type": "stream",
     "text": [
      "Scores of Logistic Regression: [0.94942806 0.95       0.95120482]\n",
      "Scores of Decision Tree Classifier: [0.90066225 0.90963855 0.90903614]\n",
      "Scores of SVM: [0.9500301  0.95       0.95060241]\n",
      "Scores of Random Forest Classifier: [0.94762191 0.94939759 0.94819277]\n",
      "Scores of Gaussian Naive Bayes: [0.83564118 0.83855422 0.55903614]\n",
      "Scores of KNN: [0.93919326 0.93373494 0.94036145]\n"
     ]
    }
   ],
   "source": [
    "from sklearn.model_selection import cross_val_score\n",
    "cvs_lr=cross_val_score(LR_model,inputs,target,cv=3)\n",
    "cvs_dtc=cross_val_score(DTC_model,inputs,target,cv=3)\n",
    "cvs_svm=cross_val_score(SVM_model,inputs,target,cv=3)\n",
    "cvs_rfc=cross_val_score(RFC_model,inputs,target,cv=3)\n",
    "cvs_gnb=cross_val_score(GNB_model,inputs,target,cv=3)\n",
    "cvs_knc=cross_val_score(KNC_model,inputs,target,cv=3)\n",
    "print('Scores of Logistic Regression:',cvs_lr)\n",
    "print('Scores of Decision Tree Classifier:',cvs_dtc)\n",
    "print('Scores of SVM:',cvs_svm)\n",
    "print('Scores of Random Forest Classifier:',cvs_rfc)\n",
    "print('Scores of Gaussian Naive Bayes:',cvs_gnb)\n",
    "print('Scores of KNN:',cvs_knc)"
   ]
  },
  {
   "cell_type": "code",
   "execution_count": 19,
   "id": "n1zQdHx6Q7oe",
   "metadata": {
    "colab": {
     "base_uri": "https://localhost:8080/"
    },
    "executionInfo": {
     "elapsed": 432,
     "status": "ok",
     "timestamp": 1662097658427,
     "user": {
      "displayName": "Md. Fahim Rahman",
      "userId": "13974613033485581138"
     },
     "user_tz": -360
    },
    "id": "n1zQdHx6Q7oe",
    "outputId": "d00ec2af-4f33-43bd-eb68-67cdb7c3ce54"
   },
   "outputs": [
    {
     "name": "stdout",
     "output_type": "stream",
     "text": [
      "Average Score of Logistic Regression: 0.9502109582218096\n",
      "Average Score of Decision Tree Classifier: 0.9064456501502699\n",
      "Average Score of SVM: 0.9502108373288457\n",
      "Average Score of Random Forest Classifier: 0.9484040919850383\n",
      "Average Score of Gaussian Naive Bayes: 0.7444105138192746\n",
      "Average Score of KNN: 0.9377632142054068\n"
     ]
    }
   ],
   "source": [
    "print('Average Score of Logistic Regression:',cvs_lr.mean())\n",
    "print('Average Score of Decision Tree Classifier:',cvs_dtc.mean())\n",
    "print('Average Score of SVM:',cvs_svm.mean())\n",
    "print('Average Score of Random Forest Classifier:',cvs_rfc.mean())\n",
    "print('Average Score of Gaussian Naive Bayes:',cvs_gnb.mean())\n",
    "print('Average Score of KNN:',cvs_knc.mean())"
   ]
  },
  {
   "cell_type": "markdown",
   "id": "-RG0dYgFss62",
   "metadata": {
    "id": "-RG0dYgFss62"
   },
   "source": [
    "## **Predicting Brain Stroke depending upon user input**"
   ]
  },
  {
   "cell_type": "code",
   "execution_count": 20,
   "id": "QmoJ2C5ztaSf",
   "metadata": {
    "colab": {
     "base_uri": "https://localhost:8080/"
    },
    "executionInfo": {
     "elapsed": 88869,
     "status": "ok",
     "timestamp": 1662101290904,
     "user": {
      "displayName": "Md. Fahim Rahman",
      "userId": "13974613033485581138"
     },
     "user_tz": -360
    },
    "id": "QmoJ2C5ztaSf",
    "outputId": "601584a5-1bfb-46c7-9526-7edf9e1ad2f6"
   },
   "outputs": [
    {
     "name": "stdout",
     "output_type": "stream",
     "text": [
      "Age? 54\n",
      "Hypertension(Yes:1, No: 0)? 0\n",
      "Heart Disease(Yes:1, No: 0)? 1\n",
      "Avg glucose level? 140.28\n",
      "BMI? 37.1\n",
      "Married(Yes:1, No: 0)? 1\n",
      "Smoking Status(never smoked = 0, formerly smoked = 1, smokes = 2, unknown = 3)? 1\n",
      "Residence Type(Urban = 1, Rural = 0)? 1\n",
      "Gender(Male = 1, Female = 0)? 0\n",
      "Work Type(Private = 1, Self-employed = 2, Govt_job=3, children = 4)? 1\n",
      "You don't have brain stroke with the probability of 95.495%\n"
     ]
    }
   ],
   "source": [
    "age=int(input('Age? '))\n",
    "hypertension=int(input('Hypertension(Yes:1, No: 0)? '))\n",
    "heart_disease=int(input('Heart Disease(Yes:1, No: 0)? '))\n",
    "avg_glucose_level=float(input('Avg glucose level? '))\n",
    "bmi=float(input('BMI? '))\n",
    "married=int(input('Married(Yes:1, No: 0)? '))\n",
    "smoking_status_new=int(input('Smoking Status(never smoked = 0, formerly smoked = 1, smokes = 2, unknown = 3)? '))\n",
    "residence_type_new=int(input('Residence Type(Urban = 1, Rural = 0)? '))\n",
    "gender_new=int(input('Gender(Male = 1, Female = 0)? '))\n",
    "work_type=int(input('Work Type(Private = 1, Self-employed = 2, Govt_job=3, children = 4)? '))\n",
    "Private=0\n",
    "Self_employed=0\n",
    "children=0\n",
    "if work_type==1:\n",
    "  Private=1\n",
    "elif work_type==2:\n",
    "  Self_employed=1\n",
    "elif work_type==4:\n",
    "  children=1\n",
    "\n",
    "data = [[age,hypertension,heart_disease,avg_glucose_level,bmi,married,smoking_status_new,residence_type_new,gender_new,Private,Self_employed,children]]\n",
    "input_df = pd.DataFrame(data,columns=['age','hypertension','heart_disease','avg_glucose_level','bmi','married','smoking_status_new','residence_type_new','gender_new','Private','Self-employed','children'])\n",
    "\n",
    "predicted_value=LR_model.predict(input_df)[0]\n",
    "predicted_value_prob=LR_model.predict_proba(input_df)[0][0]\n",
    "\n",
    "if predicted_value==1:\n",
    "  print(f'You have brain stroke with the probability of {round(predicted_value_prob*100,3)}%')\n",
    "else:\n",
    "  print(f'You don\\'t have brain stroke with the probability of {round(predicted_value_prob*100,3)}%')\n",
    "  "
   ]
  },
  {
   "cell_type": "code",
   "execution_count": 27,
   "id": "0r1ExsV385-o",
   "metadata": {
    "colab": {
     "base_uri": "https://localhost:8080/"
    },
    "executionInfo": {
     "elapsed": 510,
     "status": "ok",
     "timestamp": 1662101347405,
     "user": {
      "displayName": "Md. Fahim Rahman",
      "userId": "13974613033485581138"
     },
     "user_tz": -360
    },
    "id": "0r1ExsV385-o",
    "outputId": "d6e03042-9ce2-48a8-fb15-28a3db8856e2"
   },
   "outputs": [
    {
     "data": {
      "text/plain": [
       "age                    54.00\n",
       "hypertension            0.00\n",
       "heart_disease           1.00\n",
       "avg_glucose_level     140.28\n",
       "bmi                    37.10\n",
       "married                 1.00\n",
       "smoking_status_new      1.00\n",
       "residence_type_new      1.00\n",
       "gender_new              0.00\n",
       "Private                 1.00\n",
       "Self-employed           0.00\n",
       "children                0.00\n",
       "Name: 1325, dtype: float64"
      ]
     },
     "execution_count": 27,
     "metadata": {},
     "output_type": "execute_result"
    }
   ],
   "source": [
    "x_test.iloc[1]"
   ]
  },
  {
   "cell_type": "code",
   "execution_count": 28,
   "id": "yyNmQOkr9H97",
   "metadata": {
    "colab": {
     "base_uri": "https://localhost:8080/"
    },
    "executionInfo": {
     "elapsed": 618,
     "status": "ok",
     "timestamp": 1662101369966,
     "user": {
      "displayName": "Md. Fahim Rahman",
      "userId": "13974613033485581138"
     },
     "user_tz": -360
    },
    "id": "yyNmQOkr9H97",
    "outputId": "91a2b56e-2191-493a-e83d-1f6e7076ac9c"
   },
   "outputs": [
    {
     "data": {
      "text/plain": [
       "0"
      ]
     },
     "execution_count": 28,
     "metadata": {},
     "output_type": "execute_result"
    }
   ],
   "source": [
    "y_test.iloc[1]"
   ]
  },
  {
   "cell_type": "code",
   "execution_count": null,
   "id": "C_oNga3b9inh",
   "metadata": {
    "id": "C_oNga3b9inh"
   },
   "outputs": [],
   "source": []
  }
 ],
 "metadata": {
  "colab": {
   "collapsed_sections": [
    "eTPM5Ny2JNcH",
    "B0t-CR4mLVEE",
    "aVd6gOiUo6ZH",
    "XHaUcOh2L76c",
    "-_iQNC7Fp5em"
   ],
   "provenance": []
  },
  "gpuClass": "standard",
  "kernelspec": {
   "display_name": "Python 3 (ipykernel)",
   "language": "python",
   "name": "python3"
  },
  "language_info": {
   "codemirror_mode": {
    "name": "ipython",
    "version": 3
   },
   "file_extension": ".py",
   "mimetype": "text/x-python",
   "name": "python",
   "nbconvert_exporter": "python",
   "pygments_lexer": "ipython3",
   "version": "3.9.7"
  }
 },
 "nbformat": 4,
 "nbformat_minor": 5
}
